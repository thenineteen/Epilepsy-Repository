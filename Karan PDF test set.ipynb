{
 "cells": [
  {
   "cell_type": "markdown",
   "metadata": {},
   "source": [
    "# Karan PDFs: the real deal"
   ]
  },
  {
   "cell_type": "code",
   "execution_count": 256,
   "metadata": {},
   "outputs": [],
   "source": [
    "\n",
    "# Karan_test_version1_not_searched_the_description = pd.read_csv(r'fullAnonDF.csv', \n",
    "#                          index_col='IDP',\n",
    "#                         )\n",
    "\n",
    "\n",
    "\n",
    "Karan_test = pd.read_csv(r'fullAnonDF_vs2.csv',   # Karan: \"133 extra features found across the 5000 files\"\n",
    "#                          index_col='IDP',\n",
    "                        )"
   ]
  },
  {
   "cell_type": "code",
   "execution_count": 257,
   "metadata": {
    "scrolled": true
   },
   "outputs": [
    {
     "data": {
      "text/html": [
       "<div>\n",
       "<style scoped>\n",
       "    .dataframe tbody tr th:only-of-type {\n",
       "        vertical-align: middle;\n",
       "    }\n",
       "\n",
       "    .dataframe tbody tr th {\n",
       "        vertical-align: top;\n",
       "    }\n",
       "\n",
       "    .dataframe thead th {\n",
       "        text-align: right;\n",
       "    }\n",
       "</style>\n",
       "<table border=\"1\" class=\"dataframe\">\n",
       "  <thead>\n",
       "    <tr style=\"text-align: right;\">\n",
       "      <th></th>\n",
       "      <th>Unnamed: 0</th>\n",
       "      <th>IDP</th>\n",
       "      <th>Had surgery</th>\n",
       "      <th>OP Date</th>\n",
       "      <th>OP Type</th>\n",
       "      <th>Side</th>\n",
       "      <th>IC</th>\n",
       "      <th>Entirely Seizure-Free</th>\n",
       "      <th>pdfSequenceArray</th>\n",
       "      <th>mlSequenceArray</th>\n",
       "      <th>...</th>\n",
       "      <th>Aphasia</th>\n",
       "      <th>Dysphasia</th>\n",
       "      <th>Pallilalia</th>\n",
       "      <th>Aphemia</th>\n",
       "      <th>Corprolalia</th>\n",
       "      <th>Dialeptic/LOA</th>\n",
       "      <th>LOC</th>\n",
       "      <th>EZ</th>\n",
       "      <th>AUTOMATISMS</th>\n",
       "      <th>Hippocampal Sclerosis</th>\n",
       "    </tr>\n",
       "  </thead>\n",
       "  <tbody>\n",
       "    <tr>\n",
       "      <th>0</th>\n",
       "      <td>0</td>\n",
       "      <td>1500</td>\n",
       "      <td>False</td>\n",
       "      <td>NaN</td>\n",
       "      <td>NaN</td>\n",
       "      <td>NaN</td>\n",
       "      <td>NaN</td>\n",
       "      <td>NaN</td>\n",
       "      <td>[[60, 55]]</td>\n",
       "      <td>[[49, 17]]</td>\n",
       "      <td>...</td>\n",
       "      <td>False</td>\n",
       "      <td>False</td>\n",
       "      <td>False</td>\n",
       "      <td>False</td>\n",
       "      <td>False</td>\n",
       "      <td>True</td>\n",
       "      <td>False</td>\n",
       "      <td>False</td>\n",
       "      <td>False</td>\n",
       "      <td>True</td>\n",
       "    </tr>\n",
       "    <tr>\n",
       "      <th>1</th>\n",
       "      <td>1</td>\n",
       "      <td>1501</td>\n",
       "      <td>False</td>\n",
       "      <td>NaN</td>\n",
       "      <td>NaN</td>\n",
       "      <td>NaN</td>\n",
       "      <td>NaN</td>\n",
       "      <td>NaN</td>\n",
       "      <td>[[3, 50]]</td>\n",
       "      <td>[[7, 17]]</td>\n",
       "      <td>...</td>\n",
       "      <td>False</td>\n",
       "      <td>False</td>\n",
       "      <td>False</td>\n",
       "      <td>False</td>\n",
       "      <td>False</td>\n",
       "      <td>False</td>\n",
       "      <td>False</td>\n",
       "      <td>False</td>\n",
       "      <td>False</td>\n",
       "      <td>False</td>\n",
       "    </tr>\n",
       "    <tr>\n",
       "      <th>2</th>\n",
       "      <td>2</td>\n",
       "      <td>1502</td>\n",
       "      <td>False</td>\n",
       "      <td>NaN</td>\n",
       "      <td>NaN</td>\n",
       "      <td>NaN</td>\n",
       "      <td>NaN</td>\n",
       "      <td>NaN</td>\n",
       "      <td>[[19, 17, 20], [55]]</td>\n",
       "      <td>[[9, 2, 46], [17]]</td>\n",
       "      <td>...</td>\n",
       "      <td>False</td>\n",
       "      <td>False</td>\n",
       "      <td>False</td>\n",
       "      <td>False</td>\n",
       "      <td>False</td>\n",
       "      <td>False</td>\n",
       "      <td>False</td>\n",
       "      <td>False</td>\n",
       "      <td>False</td>\n",
       "      <td>False</td>\n",
       "    </tr>\n",
       "    <tr>\n",
       "      <th>3</th>\n",
       "      <td>3</td>\n",
       "      <td>1503</td>\n",
       "      <td>False</td>\n",
       "      <td>NaN</td>\n",
       "      <td>NaN</td>\n",
       "      <td>NaN</td>\n",
       "      <td>NaN</td>\n",
       "      <td>NaN</td>\n",
       "      <td>[[17, 15, 16, 20, 60], [62], [20]]</td>\n",
       "      <td>[[2, 4, 4, 46, 49], [26], [46]]</td>\n",
       "      <td>...</td>\n",
       "      <td>False</td>\n",
       "      <td>False</td>\n",
       "      <td>False</td>\n",
       "      <td>False</td>\n",
       "      <td>False</td>\n",
       "      <td>False</td>\n",
       "      <td>False</td>\n",
       "      <td>False</td>\n",
       "      <td>False</td>\n",
       "      <td>True</td>\n",
       "    </tr>\n",
       "    <tr>\n",
       "      <th>4</th>\n",
       "      <td>4</td>\n",
       "      <td>1504</td>\n",
       "      <td>False</td>\n",
       "      <td>NaN</td>\n",
       "      <td>NaN</td>\n",
       "      <td>NaN</td>\n",
       "      <td>NaN</td>\n",
       "      <td>NaN</td>\n",
       "      <td>[[60], [37]]</td>\n",
       "      <td>[[49], [13]]</td>\n",
       "      <td>...</td>\n",
       "      <td>False</td>\n",
       "      <td>False</td>\n",
       "      <td>False</td>\n",
       "      <td>False</td>\n",
       "      <td>False</td>\n",
       "      <td>False</td>\n",
       "      <td>False</td>\n",
       "      <td>False</td>\n",
       "      <td>False</td>\n",
       "      <td>True</td>\n",
       "    </tr>\n",
       "  </tbody>\n",
       "</table>\n",
       "<p>5 rows × 61 columns</p>\n",
       "</div>"
      ],
      "text/plain": [
       "   Unnamed: 0   IDP  Had surgery OP Date OP Type Side   IC  \\\n",
       "0           0  1500        False     NaN     NaN  NaN  NaN   \n",
       "1           1  1501        False     NaN     NaN  NaN  NaN   \n",
       "2           2  1502        False     NaN     NaN  NaN  NaN   \n",
       "3           3  1503        False     NaN     NaN  NaN  NaN   \n",
       "4           4  1504        False     NaN     NaN  NaN  NaN   \n",
       "\n",
       "  Entirely Seizure-Free                    pdfSequenceArray  \\\n",
       "0                   NaN                          [[60, 55]]   \n",
       "1                   NaN                           [[3, 50]]   \n",
       "2                   NaN                [[19, 17, 20], [55]]   \n",
       "3                   NaN  [[17, 15, 16, 20, 60], [62], [20]]   \n",
       "4                   NaN                        [[60], [37]]   \n",
       "\n",
       "                   mlSequenceArray          ...            Aphasia  Dysphasia  \\\n",
       "0                       [[49, 17]]          ...              False      False   \n",
       "1                        [[7, 17]]          ...              False      False   \n",
       "2               [[9, 2, 46], [17]]          ...              False      False   \n",
       "3  [[2, 4, 4, 46, 49], [26], [46]]          ...              False      False   \n",
       "4                     [[49], [13]]          ...              False      False   \n",
       "\n",
       "   Pallilalia  Aphemia  Corprolalia  Dialeptic/LOA    LOC     EZ  AUTOMATISMS  \\\n",
       "0       False    False        False           True  False  False        False   \n",
       "1       False    False        False          False  False  False        False   \n",
       "2       False    False        False          False  False  False        False   \n",
       "3       False    False        False          False  False  False        False   \n",
       "4       False    False        False          False  False  False        False   \n",
       "\n",
       "   Hippocampal Sclerosis  \n",
       "0                   True  \n",
       "1                  False  \n",
       "2                  False  \n",
       "3                   True  \n",
       "4                   True  \n",
       "\n",
       "[5 rows x 61 columns]"
      ]
     },
     "execution_count": 257,
     "metadata": {},
     "output_type": "execute_result"
    }
   ],
   "source": [
    "Karan_test.head()\n",
    "\n",
    "\n",
    "# problems:\n",
    "# 1. too few automatisms (none of oral, LL, UL)\n",
    "# 2. AUTOMATISMS does not equal True when other automatisms is True - this is a mistake."
   ]
  },
  {
   "cell_type": "code",
   "execution_count": 258,
   "metadata": {},
   "outputs": [
    {
     "data": {
      "text/plain": [
       "(86, 61)"
      ]
     },
     "execution_count": 258,
     "metadata": {},
     "output_type": "execute_result"
    }
   ],
   "source": [
    "# 1. get the ESF\n",
    "Karan_ESF= Karan_test.loc[Karan_test[ESF]==True]\n",
    "Karan_ESF.shape  # 86"
   ]
  },
  {
   "cell_type": "code",
   "execution_count": 259,
   "metadata": {},
   "outputs": [
    {
     "name": "stdout",
     "output_type": "stream",
     "text": [
      "67\n"
     ]
    },
    {
     "data": {
      "text/plain": [
       "(67, 61)"
      ]
     },
     "execution_count": 259,
     "metadata": {},
     "output_type": "execute_result"
    }
   ],
   "source": [
    "# 2. check for duplicates, remove the last duplicates\n",
    "print(Karan_ESF.IDP.nunique())\n",
    "Karan_ESF.loc[Karan_ESF['IDP'].duplicated()]\n",
    "Karan_ESF_xduplicated = Karan_ESF.drop(index=Karan_ESF.loc[Karan_ESF['IDP'].duplicated()].index, axis=0)\n",
    "# Karan_ESF.loc[~Karan_ESF['IDP'].duplicated()  # equivalent\n",
    "Karan_ESF_xduplicated.shape"
   ]
  },
  {
   "cell_type": "code",
   "execution_count": 260,
   "metadata": {},
   "outputs": [
    {
     "data": {
      "text/plain": [
       "True"
      ]
     },
     "execution_count": 260,
     "metadata": {},
     "output_type": "execute_result"
    }
   ],
   "source": [
    "(Karan_ESF.drop(index=Karan_ESF.loc[Karan_ESF['IDP'].duplicated()].index, axis=0).all() == Karan_ESF.loc[~Karan_ESF['IDP'].duplicated()].all()).all()"
   ]
  },
  {
   "cell_type": "code",
   "execution_count": 261,
   "metadata": {},
   "outputs": [
    {
     "data": {
      "text/plain": [
       "(66, 61)"
      ]
     },
     "execution_count": 261,
     "metadata": {},
     "output_type": "execute_result"
    }
   ],
   "source": [
    "# 3. Remove Hx/CCx in OP Type\n",
    "\n",
    "Karan_ESF_xduplicated = Karan_ESF_xduplicated.drop(index=Karan_ESF_xduplicated.loc[Karan_ESF_xduplicated['OP Type']=='Hx'].index)\n",
    "Karan_ESF_xduplicated.shape"
   ]
  },
  {
   "cell_type": "code",
   "execution_count": null,
   "metadata": {},
   "outputs": [],
   "source": []
  },
  {
   "cell_type": "code",
   "execution_count": 262,
   "metadata": {},
   "outputs": [],
   "source": [
    "# 4. Set EZ target for predictions\n",
    "\n",
    "Karan_ESF_xduplicated.loc[(Karan_ESF_xduplicated['OP Type'] == 'T Lx'), 'EZ'] = True\n",
    "Karan_ESF_xduplicated.loc[(Karan_ESF_xduplicated['OP Type'] == 'T Lesx'), 'EZ'] = True\n",
    "\n",
    "y = Karan_ESF_xduplicated['EZ']"
   ]
  },
  {
   "cell_type": "code",
   "execution_count": null,
   "metadata": {},
   "outputs": [],
   "source": []
  },
  {
   "cell_type": "code",
   "execution_count": 263,
   "metadata": {},
   "outputs": [],
   "source": [
    "# 5.1  merge AUTOMATISMS and remove others\n",
    "Karan_ESF_xduplicated['AUTOMATISMS'] = False\n",
    "\n",
    "Karan_ESF_xduplicated.loc[Karan_ESF_xduplicated['Oral Automatisms']==True, 'AUTOMATISMS'] = True\n",
    "Karan_ESF_xduplicated.loc[Karan_ESF_xduplicated['Upper Limb Automatism']==True, 'AUTOMATISMS'] = True#\n",
    "Karan_ESF_xduplicated.loc[Karan_ESF_xduplicated['Other Automatism']==True, 'AUTOMATISMS'] = True\n",
    "Karan_ESF_xduplicated.loc[Karan_ESF_xduplicated['Lower Limb Automatism']==True, 'AUTOMATISMS'] = True\n",
    "\n",
    "Karan_ESF_xduplicated.drop(columns=['Oral Automatisms', 'Upper Limb Automatism', 'Other Automatism', 'Lower Limb Automatism'], inplace=True)\n"
   ]
  },
  {
   "cell_type": "code",
   "execution_count": 264,
   "metadata": {},
   "outputs": [],
   "source": [
    "# 5.2 remove unused features in training set (no occurence in training set)\n",
    "train_set_not_seen_features = ['Fencing', 'Lower Limb Automatism', 'Pallilalia', 'Aphemia', 'Drinking', 'Cough', 'Whistling']\n",
    "train_set_not_seen_features = [i for i in train_set_not_seen_features if i in Karan_ESF_xduplicated.columns]\n",
    "Karan_ESF_xduplicated.drop(columns=train_set_not_seen_features, inplace=True)\n"
   ]
  },
  {
   "cell_type": "code",
   "execution_count": null,
   "metadata": {},
   "outputs": [],
   "source": []
  },
  {
   "cell_type": "code",
   "execution_count": 265,
   "metadata": {},
   "outputs": [
    {
     "data": {
      "text/plain": [
       "(66, 41)"
      ]
     },
     "execution_count": 265,
     "metadata": {},
     "output_type": "execute_result"
    }
   ],
   "source": [
    "# 6. Set X as only subset of features of above:\n",
    "\n",
    "if Karan_ESF_xduplicated.columns[9] == 'mlSequenceArray':\n",
    "    X = Karan_ESF_xduplicated.iloc[:, 10:]\n",
    "elif Karan_ESF_xduplicated.columns[9] == 'Epigastric':\n",
    "    X = Karan_ESF_xduplicated.iloc[:, 9:]\n",
    "# X.drop(columns=HS, inplace=True)   # wil drop later on the fly\n",
    "X.drop(columns='EZ', inplace=True)\n",
    "X.shape"
   ]
  },
  {
   "cell_type": "code",
   "execution_count": 267,
   "metadata": {},
   "outputs": [
    {
     "data": {
      "text/html": [
       "<div>\n",
       "<style scoped>\n",
       "    .dataframe tbody tr th:only-of-type {\n",
       "        vertical-align: middle;\n",
       "    }\n",
       "\n",
       "    .dataframe tbody tr th {\n",
       "        vertical-align: top;\n",
       "    }\n",
       "\n",
       "    .dataframe thead th {\n",
       "        text-align: right;\n",
       "    }\n",
       "</style>\n",
       "<table border=\"1\" class=\"dataframe\">\n",
       "  <thead>\n",
       "    <tr style=\"text-align: right;\">\n",
       "      <th></th>\n",
       "      <th>Epigastric</th>\n",
       "      <th>Fear-Anxiety</th>\n",
       "      <th>Psychic</th>\n",
       "      <th>Autonomous-Vegetative</th>\n",
       "      <th>Olfactory-Gustatory</th>\n",
       "      <th>Auditory</th>\n",
       "      <th>Visual</th>\n",
       "      <th>Somatosensory</th>\n",
       "      <th>Vestibular</th>\n",
       "      <th>Non-Specific Aura</th>\n",
       "      <th>...</th>\n",
       "      <th>Ictal Pout</th>\n",
       "      <th>Grimace</th>\n",
       "      <th>Vocalisation</th>\n",
       "      <th>Aphasia</th>\n",
       "      <th>Dysphasia</th>\n",
       "      <th>Corprolalia</th>\n",
       "      <th>Dialeptic/LOA</th>\n",
       "      <th>LOC</th>\n",
       "      <th>AUTOMATISMS</th>\n",
       "      <th>Hippocampal Sclerosis</th>\n",
       "    </tr>\n",
       "  </thead>\n",
       "  <tbody>\n",
       "    <tr>\n",
       "      <th>9</th>\n",
       "      <td>False</td>\n",
       "      <td>False</td>\n",
       "      <td>False</td>\n",
       "      <td>False</td>\n",
       "      <td>False</td>\n",
       "      <td>False</td>\n",
       "      <td>False</td>\n",
       "      <td>False</td>\n",
       "      <td>False</td>\n",
       "      <td>False</td>\n",
       "      <td>...</td>\n",
       "      <td>False</td>\n",
       "      <td>False</td>\n",
       "      <td>False</td>\n",
       "      <td>False</td>\n",
       "      <td>False</td>\n",
       "      <td>False</td>\n",
       "      <td>False</td>\n",
       "      <td>False</td>\n",
       "      <td>False</td>\n",
       "      <td>True</td>\n",
       "    </tr>\n",
       "    <tr>\n",
       "      <th>25</th>\n",
       "      <td>False</td>\n",
       "      <td>False</td>\n",
       "      <td>False</td>\n",
       "      <td>False</td>\n",
       "      <td>False</td>\n",
       "      <td>False</td>\n",
       "      <td>False</td>\n",
       "      <td>False</td>\n",
       "      <td>False</td>\n",
       "      <td>False</td>\n",
       "      <td>...</td>\n",
       "      <td>False</td>\n",
       "      <td>False</td>\n",
       "      <td>False</td>\n",
       "      <td>False</td>\n",
       "      <td>False</td>\n",
       "      <td>False</td>\n",
       "      <td>False</td>\n",
       "      <td>False</td>\n",
       "      <td>False</td>\n",
       "      <td>False</td>\n",
       "    </tr>\n",
       "    <tr>\n",
       "      <th>41</th>\n",
       "      <td>False</td>\n",
       "      <td>False</td>\n",
       "      <td>False</td>\n",
       "      <td>False</td>\n",
       "      <td>False</td>\n",
       "      <td>False</td>\n",
       "      <td>False</td>\n",
       "      <td>False</td>\n",
       "      <td>False</td>\n",
       "      <td>False</td>\n",
       "      <td>...</td>\n",
       "      <td>False</td>\n",
       "      <td>False</td>\n",
       "      <td>False</td>\n",
       "      <td>False</td>\n",
       "      <td>False</td>\n",
       "      <td>False</td>\n",
       "      <td>False</td>\n",
       "      <td>False</td>\n",
       "      <td>False</td>\n",
       "      <td>False</td>\n",
       "    </tr>\n",
       "    <tr>\n",
       "      <th>58</th>\n",
       "      <td>False</td>\n",
       "      <td>False</td>\n",
       "      <td>False</td>\n",
       "      <td>False</td>\n",
       "      <td>False</td>\n",
       "      <td>False</td>\n",
       "      <td>False</td>\n",
       "      <td>False</td>\n",
       "      <td>False</td>\n",
       "      <td>False</td>\n",
       "      <td>...</td>\n",
       "      <td>False</td>\n",
       "      <td>False</td>\n",
       "      <td>False</td>\n",
       "      <td>False</td>\n",
       "      <td>False</td>\n",
       "      <td>False</td>\n",
       "      <td>False</td>\n",
       "      <td>False</td>\n",
       "      <td>False</td>\n",
       "      <td>True</td>\n",
       "    </tr>\n",
       "    <tr>\n",
       "      <th>69</th>\n",
       "      <td>True</td>\n",
       "      <td>False</td>\n",
       "      <td>False</td>\n",
       "      <td>False</td>\n",
       "      <td>False</td>\n",
       "      <td>False</td>\n",
       "      <td>False</td>\n",
       "      <td>False</td>\n",
       "      <td>False</td>\n",
       "      <td>False</td>\n",
       "      <td>...</td>\n",
       "      <td>False</td>\n",
       "      <td>False</td>\n",
       "      <td>False</td>\n",
       "      <td>False</td>\n",
       "      <td>False</td>\n",
       "      <td>False</td>\n",
       "      <td>False</td>\n",
       "      <td>False</td>\n",
       "      <td>False</td>\n",
       "      <td>False</td>\n",
       "    </tr>\n",
       "  </tbody>\n",
       "</table>\n",
       "<p>5 rows × 41 columns</p>\n",
       "</div>"
      ],
      "text/plain": [
       "    Epigastric  Fear-Anxiety  Psychic  Autonomous-Vegetative  \\\n",
       "9        False         False    False                  False   \n",
       "25       False         False    False                  False   \n",
       "41       False         False    False                  False   \n",
       "58       False         False    False                  False   \n",
       "69        True         False    False                  False   \n",
       "\n",
       "    Olfactory-Gustatory  Auditory  Visual  Somatosensory  Vestibular  \\\n",
       "9                 False     False   False          False       False   \n",
       "25                False     False   False          False       False   \n",
       "41                False     False   False          False       False   \n",
       "58                False     False   False          False       False   \n",
       "69                False     False   False          False       False   \n",
       "\n",
       "    Non-Specific Aura          ...            Ictal Pout  Grimace  \\\n",
       "9               False          ...                 False    False   \n",
       "25              False          ...                 False    False   \n",
       "41              False          ...                 False    False   \n",
       "58              False          ...                 False    False   \n",
       "69              False          ...                 False    False   \n",
       "\n",
       "    Vocalisation  Aphasia  Dysphasia  Corprolalia  Dialeptic/LOA    LOC  \\\n",
       "9          False    False      False        False          False  False   \n",
       "25         False    False      False        False          False  False   \n",
       "41         False    False      False        False          False  False   \n",
       "58         False    False      False        False          False  False   \n",
       "69         False    False      False        False          False  False   \n",
       "\n",
       "    AUTOMATISMS  Hippocampal Sclerosis  \n",
       "9         False                   True  \n",
       "25        False                  False  \n",
       "41        False                  False  \n",
       "58        False                   True  \n",
       "69        False                  False  \n",
       "\n",
       "[5 rows x 41 columns]"
      ]
     },
     "execution_count": 267,
     "metadata": {},
     "output_type": "execute_result"
    }
   ],
   "source": [
    "\n",
    "X.head()  # for version2, need to start from 10"
   ]
  },
  {
   "cell_type": "code",
   "execution_count": 276,
   "metadata": {},
   "outputs": [
    {
     "data": {
      "text/plain": [
       "32"
      ]
     },
     "execution_count": 276,
     "metadata": {},
     "output_type": "execute_result"
    }
   ],
   "source": [
    "(X.sum() == 0).sum()"
   ]
  },
  {
   "cell_type": "code",
   "execution_count": null,
   "metadata": {},
   "outputs": [],
   "source": []
  },
  {
   "cell_type": "code",
   "execution_count": null,
   "metadata": {},
   "outputs": [],
   "source": []
  },
  {
   "cell_type": "code",
   "execution_count": 268,
   "metadata": {},
   "outputs": [
    {
     "data": {
      "text/plain": [
       "0.8181818181818182"
      ]
     },
     "execution_count": 268,
     "metadata": {},
     "output_type": "execute_result"
    }
   ],
   "source": [
    "# 7. Naive Benchmark:\n",
    "y.sum()/y.count()"
   ]
  },
  {
   "cell_type": "code",
   "execution_count": null,
   "metadata": {},
   "outputs": [],
   "source": []
  },
  {
   "cell_type": "code",
   "execution_count": 269,
   "metadata": {},
   "outputs": [
    {
     "data": {
      "text/plain": [
       "(0.8181818181818182, 0.8333333333333334)"
      ]
     },
     "execution_count": 269,
     "metadata": {},
     "output_type": "execute_result"
    }
   ],
   "source": [
    "# 8. GB # version 2\n",
    "\n",
    "GB_RFECV_acc.score(X.drop(columns=HS), y), GB_HS_RFECV_acc.score(X, y)"
   ]
  },
  {
   "cell_type": "code",
   "execution_count": 227,
   "metadata": {},
   "outputs": [
    {
     "data": {
      "text/plain": [
       "(0.8181818181818182, 0.8484848484848485)"
      ]
     },
     "execution_count": 227,
     "metadata": {},
     "output_type": "execute_result"
    }
   ],
   "source": [
    "# 9. SVC(kernel=linear)  # version 1\n",
    "\n",
    "linear_RFECV_acc.score(X.drop(columns=HS), y), linear_HS_RFECV_acc.score(X, y)"
   ]
  },
  {
   "cell_type": "code",
   "execution_count": null,
   "metadata": {},
   "outputs": [],
   "source": []
  },
  {
   "cell_type": "code",
   "execution_count": 270,
   "metadata": {},
   "outputs": [
    {
     "data": {
      "text/plain": [
       "(0.8181818181818182, 0.8484848484848485)"
      ]
     },
     "execution_count": 270,
     "metadata": {},
     "output_type": "execute_result"
    }
   ],
   "source": [
    "# 9. SVC(kernel=linear)  # version 2\n",
    "\n",
    "linear_RFECV_acc.score(X.drop(columns=HS), y), linear_HS_RFECV_acc.score(X, y)"
   ]
  },
  {
   "cell_type": "code",
   "execution_count": null,
   "metadata": {},
   "outputs": [],
   "source": []
  },
  {
   "cell_type": "code",
   "execution_count": null,
   "metadata": {},
   "outputs": [],
   "source": []
  },
  {
   "cell_type": "code",
   "execution_count": null,
   "metadata": {},
   "outputs": [],
   "source": []
  },
  {
   "cell_type": "code",
   "execution_count": null,
   "metadata": {},
   "outputs": [],
   "source": []
  },
  {
   "cell_type": "code",
   "execution_count": null,
   "metadata": {},
   "outputs": [],
   "source": []
  },
  {
   "cell_type": "code",
   "execution_count": null,
   "metadata": {},
   "outputs": [],
   "source": []
  }
 ],
 "metadata": {
  "kernelspec": {
   "display_name": "Python 3",
   "language": "python",
   "name": "python3"
  },
  "language_info": {
   "codemirror_mode": {
    "name": "ipython",
    "version": 3
   },
   "file_extension": ".py",
   "mimetype": "text/x-python",
   "name": "python",
   "nbconvert_exporter": "python",
   "pygments_lexer": "ipython3",
   "version": "3.6.6"
  }
 },
 "nbformat": 4,
 "nbformat_minor": 2
}
